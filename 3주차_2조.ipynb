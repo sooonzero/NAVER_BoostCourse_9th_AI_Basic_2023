{
 "cells": [
  {
   "attachments": {},
   "cell_type": "markdown",
   "id": "abb64bf6",
   "metadata": {},
   "source": [
    "3번 문제"
   ]
  },
  {
   "cell_type": "code",
   "execution_count": 4,
   "id": "6785c665",
   "metadata": {},
   "outputs": [],
   "source": [
    "\n",
    "x_train = xy[0,:]\n",
    "y_train = xy[1,:]\n",
    "\n",
    "import numpy as np\n",
    "xy = np.array([[1., 2., 3., 4., 5., 6.],\n",
    "[10., 20., 30., 40., 50., 60.]])\n",
    "x_train = xy[0,:]\n",
    "y_train = xy[1,:]"
   ]
  },
  {
   "cell_type": "code",
   "execution_count": 5,
   "id": "0daa0e0b",
   "metadata": {},
   "outputs": [
    {
     "name": "stdout",
     "output_type": "stream",
     "text": [
      "[1. 2. 3. 4. 5. 6.] (6,)\n",
      "[10. 20. 30. 40. 50. 60.] (6,)\n"
     ]
    }
   ],
   "source": [
    "import numpy as np\n",
    "xy = np.array([[1., 2., 3., 4., 5., 6.],\n",
    "             [10., 20., 30., 40., 50., 60.]])\n",
    "x_train = xy[0]\n",
    "y_train = xy[1]\n",
    "print(x_train,x_train.shape)\n",
    "print(y_train,y_train.shape)"
   ]
  },
  {
   "attachments": {},
   "cell_type": "markdown",
   "id": "9ddc2d2d",
   "metadata": {},
   "source": [
    "4번 문제"
   ]
  },
  {
   "cell_type": "code",
   "execution_count": 6,
   "id": "90964247",
   "metadata": {},
   "outputs": [
    {
     "name": "stdout",
     "output_type": "stream",
     "text": [
      "[[0.25437739]] [[0.21109059]]\n"
     ]
    }
   ],
   "source": [
    "import numpy as np\n",
    "x_train = xy[0,:]\n",
    "y_train = xy[1,:]\n",
    "beta_gd = np.random.rand(1,1)\n",
    "bias = np.random.rand(1,1)\n",
    "print(beta_gd, bias)"
   ]
  },
  {
   "attachments": {},
   "cell_type": "markdown",
   "id": "ba819344",
   "metadata": {},
   "source": [
    "5번 문제"
   ]
  },
  {
   "cell_type": "code",
   "execution_count": 7,
   "id": "cc1640bb",
   "metadata": {},
   "outputs": [
    {
     "name": "stdout",
     "output_type": "stream",
     "text": [
      "Epoch (         9/1000) error:   0.000000, beta_gd:   3.000000, bias:   0.368284\n"
     ]
    }
   ],
   "source": [
    "import numpy as np\n",
    "xy = np.array([[1.,2.,3.,4.,5.,6.],\n",
    "[3.,6.,9.,12.,15.,18]])\n",
    "x_train = xy[0,:].reshape(-1,1)\n",
    "y_train = xy[1,:].reshape(-1,1)\n",
    "beta_gd = np.random.rand(1,1)\n",
    "bias = np.random.rand(1,1)\n",
    "learning_rate = 0.01\n",
    "for i in range(10):\n",
    "   error = y_train - x_train @beta_gd\n",
    "   grad = - np.transpose(x_train) @ error\n",
    "   beta_gd = beta_gd - 0.01 * grad\n",
    "if i % 1 == 0:\n",
    "   print('Epoch ({:10d}/1000) error: {:10f}, beta_gd: {:10f}, bias: {:10f}'.format(i, error.mean(), beta_gd.item(), bias.item()))"
   ]
  }
 ],
 "metadata": {
  "kernelspec": {
   "display_name": "base",
   "language": "python",
   "name": "python3"
  },
  "language_info": {
   "codemirror_mode": {
    "name": "ipython",
    "version": 3
   },
   "file_extension": ".py",
   "mimetype": "text/x-python",
   "name": "python",
   "nbconvert_exporter": "python",
   "pygments_lexer": "ipython3",
   "version": "3.9.13"
  },
  "toc": {
   "base_numbering": 1,
   "nav_menu": {},
   "number_sections": true,
   "sideBar": true,
   "skip_h1_title": false,
   "title_cell": "Table of Contents",
   "title_sidebar": "Contents",
   "toc_cell": false,
   "toc_position": {},
   "toc_section_display": true,
   "toc_window_display": true
  },
  "vscode": {
   "interpreter": {
    "hash": "f08154012ddadd8e950e6e9e035c7a7b32c136e7647e9b7c77e02eb723a8bedb"
   }
  }
 },
 "nbformat": 4,
 "nbformat_minor": 5
}
