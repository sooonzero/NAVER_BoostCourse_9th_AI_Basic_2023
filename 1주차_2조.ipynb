{
 "cells": [
  {
   "attachments": {},
   "cell_type": "markdown",
   "metadata": {},
   "source": [
    "Q1. 파이썬에서는 리스트 형태의 데이터를 자주 사용합니다. \n",
    "그래서 리스트를 잘 다루는 것이 중요한데, 다음으로 주어진 리스트 데이터를 다뤄봅시다."
   ]
  },
  {
   "cell_type": "code",
   "execution_count": null,
   "metadata": {},
   "outputs": [],
   "source": [
    "#주어진 리스트\n",
    "num_list = [1, 5, 7, 15, 16, 22, 28, 29]"
   ]
  },
  {
   "attachments": {},
   "cell_type": "markdown",
   "metadata": {},
   "source": [
    "풀이1: 2로 나눈 나머지가 0일때(짝수일때)"
   ]
  },
  {
   "cell_type": "code",
   "execution_count": 1,
   "metadata": {},
   "outputs": [
    {
     "name": "stdout",
     "output_type": "stream",
     "text": [
      "[1, 5, 7, 15, 29]\n"
     ]
    }
   ],
   "source": [
    "def get_odd_num(num_list):\n",
    "    odd = []\n",
    "    for num in num_list:\n",
    "        if num %2 ==1:\n",
    "            odd.append(num)\n",
    "    return odd\n",
    "\n",
    "print(get_odd_num(num_list))"
   ]
  },
  {
   "attachments": {},
   "cell_type": "markdown",
   "metadata": {},
   "source": [
    "Q1. 풀이2: 2로 나눈 나머지가 0이 아닐 때(홀수)"
   ]
  },
  {
   "cell_type": "code",
   "execution_count": 1,
   "metadata": {},
   "outputs": [
    {
     "name": "stdout",
     "output_type": "stream",
     "text": [
      "[1, 5, 7, 15, 29]\n"
     ]
    }
   ],
   "source": [
    "def get_odd_num(num_list):\n",
    "  odd = []\n",
    "  for num in num_list:\n",
    "    if num %2 !=0:\n",
    "      odd.append(num)\n",
    "  return odd\n",
    "  \n",
    "print(get_odd_num(num_list))"
   ]
  },
  {
   "attachments": {},
   "cell_type": "markdown",
   "metadata": {},
   "source": [
    "Q2. 데이터 처리를 위해서 문자열을 입력받았습니다.\n",
    "그런데, 문자열을 받았더니 단어 단위로 거꾸로 입력되었습니다.\n",
    "이를 다시 원래대로 출력하는 함수를 작성해보세요\n",
    "\n",
    "조건1: string 문장을 받아 단어를 역순으로 출력하는 함수를 작성하세요.\n",
    "조건2: string 연산을 이용해보세요."
   ]
  },
  {
   "cell_type": "code",
   "execution_count": 2,
   "metadata": {},
   "outputs": [
    {
     "name": "stdout",
     "output_type": "stream",
     "text": [
      "where there is a will there is a way\n"
     ]
    }
   ],
   "source": [
    "sentence = \"way a is there will a is there where\"\n",
    "\n",
    "def reverse_sentence(sentence):\n",
    "    sentence=list(sentence.split())\n",
    "    sentence=sentence[::-1]\n",
    "    return ' '.join(sentence)\n",
    "\n",
    "print(reverse_sentence(sentence))"
   ]
  },
  {
   "attachments": {},
   "cell_type": "markdown",
   "metadata": {},
   "source": [
    "Q3. 이번 학기의 중간고사, 기말고사 점수가 발표되었습니다.\n",
    "각 학생들의 점수가 튜플 형태로 저장되어 있고, 이를 포함한 리스트가 있습니다.\n",
    "이를 이용해 각 학생들의 평균 점수를 출력하는 함수를 제작하세요.\n",
    "\n",
    "조건1: 리스트와 반복문을 사용해 데이터를 불러오세요.\n",
    "조건2: 이를 이용해 각 학생별 평균을 구해보세요."
   ]
  },
  {
   "cell_type": "code",
   "execution_count": 3,
   "metadata": {},
   "outputs": [
    {
     "name": "stdout",
     "output_type": "stream",
     "text": [
      "1 번, 평균 :  100.0\n",
      "2 번, 평균 :  92.5\n",
      "3 번, 평균 :  57.5\n",
      "4 번, 평균 :  77.5\n",
      "5 번, 평균 :  70.0\n"
     ]
    }
   ],
   "source": [
    "score = [(100, 100), (95, 90), (55, 60), (75, 80), (70, 70)]\n",
    "\n",
    "def get_avg(score):\n",
    "    for x in range(len(score)):\n",
    "        avg = sum(score[x])/2\n",
    "        print(x+1, '번, 평균 : ',avg)\n",
    "get_avg(score)"
   ]
  },
  {
   "attachments": {},
   "cell_type": "markdown",
   "metadata": {},
   "source": [
    "Q4. 두개의 납품처에서 각각 과일과 야채들이 납품되었습니다.\n",
    "이를 각가 물품의 갯수를 나타내는 2개의 딕셔너리로 정리했습니다.\n",
    "물품을 정리하기 위해서 2개의 딕셔너리 객체를 합쳐 출력하는 함수를 제작하세요.\n",
    "\n",
    "조건1: 중복되는 물품은 합쳐서 표시하세요.\n",
    "조건2: 각 딕셔너리 데이터의 키값을 이용해 중복을 확인해보세요."
   ]
  },
  {
   "cell_type": "code",
   "execution_count": 4,
   "metadata": {},
   "outputs": [
    {
     "name": "stdout",
     "output_type": "stream",
     "text": [
      "{'사과': 5, '배': 15, '감': 25, '포도': 10, '귤': 25}\n"
     ]
    }
   ],
   "source": [
    "dict_first = {'사과': 30, '배': 15, '감': 10, '포도': 10}\n",
    "dict_second = {'사과': 5, '감': 25, '배': 15, '귤': 25}\n",
    "result = {}\n",
    "\n",
    "merged={**dict_first, **dict_second}\n",
    "\n",
    "print(merged)        "
   ]
  },
  {
   "attachments": {},
   "cell_type": "markdown",
   "metadata": {},
   "source": [
    "Q5. 단어들을 입력받았는데, 자꾸만 숫자들이 섞여들어가는 문제가 있습니다.\n",
    "이를 처리하기 위해서 함수에 string을 전달 받은 뒤, string 안에서의 숫자를 제거한 후 \n",
    "string만 남은 리스트를 출력하세요\n",
    "\n",
    "조건1: string 연산을 이용해서 문자열을 자르는 연산을 사용해보세요."
   ]
  },
  {
   "cell_type": "code",
   "execution_count": 5,
   "metadata": {},
   "outputs": [
    {
     "name": "stdout",
     "output_type": "stream",
     "text": [
      "['cat', 'dog', 'cow']\n"
     ]
    }
   ],
   "source": [
    "import re\n",
    "\n",
    "def find_string(inputs):\n",
    "    num_string = re.sub(r'[0-9]+',\",\",inputs)\n",
    "\n",
    "    only_string = num_string.split(\",\")\n",
    "    for string in only_string:\n",
    "        if len(string) < 1:\n",
    "            only_string.remove(string)\n",
    "\n",
    "    print(only_string)\n",
    "\n",
    "inputs=\"cat32dog16cow5\"\n",
    "find_string(inputs)\n"
   ]
  }
 ],
 "metadata": {
  "kernelspec": {
   "display_name": "Python 3",
   "language": "python",
   "name": "python3"
  },
  "language_info": {
   "codemirror_mode": {
    "name": "ipython",
    "version": 3
   },
   "file_extension": ".py",
   "mimetype": "text/x-python",
   "name": "python",
   "nbconvert_exporter": "python",
   "pygments_lexer": "ipython3",
   "version": "3.11.1"
  },
  "orig_nbformat": 4,
  "vscode": {
   "interpreter": {
    "hash": "c18dfe6145cbb10571f3f9e5a788dd8241fb95199587586202cacf41c335c46c"
   }
  }
 },
 "nbformat": 4,
 "nbformat_minor": 2
}
