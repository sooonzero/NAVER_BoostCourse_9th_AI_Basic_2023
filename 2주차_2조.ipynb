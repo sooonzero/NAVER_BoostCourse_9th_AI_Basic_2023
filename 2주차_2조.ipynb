{
 "cells": [
  {
   "cell_type": "markdown",
   "id": "3b9bed4a",
   "metadata": {},
   "source": [
    "Q1. 중간고사 기말고사 점수를 따로 받아 저장하는 클래스를 구현해보세요. 단, 생성자의 인스턴스는 private으로 선언되어야하며, 데코레이터를 이용해 데이터를 저장하고, 함수를 이용해 평균값을 출력해보세요.\n",
    "\n",
    "- 자료형의 선언과 데코레이터를 이용해보세요."
   ]
  },
  {
   "cell_type": "code",
   "execution_count": 7,
   "id": "4384f75a",
   "metadata": {},
   "outputs": [],
   "source": [
    "#test score, mid : 50, final : 75\n",
    "\n",
    "class score()  : #클래스 선언\n",
    "    def __init__(self, mid:int, final:int): #객체 생성 시 인스턴스 초기화\n",
    "        self._mid = mid #_변수명은 private 선언 시 사용\n",
    "        self._final = final\n",
    "    \n",
    "    @property  #privatr 된 변수를 변환할 때 사용\n",
    "    def mid(self): #데코레이터 이용해 메소드 생성(중간고사 점수 저장)\n",
    "        return self._mid\n",
    "    @property\n",
    "    def final(self): #데코레이터 이용해 메소드 생성 (기말고사 점수 저장)\n",
    "        return self._final\n",
    "if __name__ == \" __main__\":\n",
    "    score= score(50, 75) #score 클래스에 속하는 인스턴스로 score 객체 생성\n",
    "    print((score.mid+ score.final)/2)"
   ]
  },
  {
   "cell_type": "markdown",
   "id": "0718a164",
   "metadata": {},
   "source": [
    "Q2. 다양한 탈 것을 사용하는 게임을 만드는 중입니다. 빠른 구현을 위해서 이미 구현한 Car 클래스를 이용해서 Bike라는 클래스를 새로 제작하려고 합니다. Car 클래스를 상속받아서 새로운 Bike 클래스를 아래와 같이 출력되도록 구성해보세요.\n",
    "\n",
    "- Bike class는 size 인자를 추가로 가집니다.\n",
    "\n",
    "class Car():"
   ]
  },
  {
   "cell_type": "code",
   "execution_count": 8,
   "id": "a2fb0877",
   "metadata": {},
   "outputs": [
    {
     "name": "stdout",
     "output_type": "stream",
     "text": [
      "gas 2 small\n"
     ]
    }
   ],
   "source": [
    "class Car():\n",
    "  def __init__(self,fuel,wheels):\n",
    "    self.fuel=fuel\n",
    "    self.wheels=wheels\n",
    "class Bike(Car):\n",
    "  def __init__(self,fuel,wheels,size):\n",
    "    super().__init__(fuel,wheels)\n",
    "    self.size=size\n",
    "bike=Bike(\"gas\",2,\"small\")\n",
    "print(bike.fuel,bike.wheels,bike.size)"
   ]
  },
  {
   "cell_type": "markdown",
   "id": "dad34a4b",
   "metadata": {},
   "source": [
    "Q3. 이번 시험 결과에 대한 데이터를 학과 사무실에서 CSV파일로 전달해줬습니다. 우리는 이 파일을 이용해서 데이터 처리를 진행해야 합니다. 파일 입출력을 이용해 파일 데이터를 리스트로 만들어보세요.\n",
    "\n",
    "- 파일 입출력에 사용하는 open 함수를 이용해 CSV 파일 내부의 데이터를 읽어보세요\n",
    "\n",
    " **CSV파일은 아래 첨부되어있습니다."
   ]
  },
  {
   "cell_type": "code",
   "execution_count": 9,
   "id": "c52157f2",
   "metadata": {},
   "outputs": [],
   "source": [
    "file_path = \"./data-01-test-score.csv\"\n",
    "def read_file(file_path):\n",
    "    with open(file_path) as f:\n",
    "        lines = f. readlines()\n",
    "    lines = [line.rstrip(\"\\n\") for line in lines]\n",
    "    data_result = []\n",
    "    for i in range(len(lines)):\n",
    "        data_result.append([lines[i]])\n",
    "    print(data_result)"
   ]
  },
  {
   "cell_type": "markdown",
   "id": "0d875728",
   "metadata": {},
   "source": [
    "Q4. 우리는 방금 CSV 파일을 읽는 함수를 구현해보았습니다. 하지만 이를 조금 더 효율적으로 사용하기 위해서 클래스로 구성을 진행하려고 합니다. 방금 구현한 함수를 포함한 클래스를 구현해보세요.\n",
    "\n",
    " - merge list를 이용해 리스트 내 데이터의 합을 출력해보세요.\n",
    "\n",
    "- 데이터를 합치기 전 데이터의 자료형을 변경해보세요."
   ]
  },
  {
   "cell_type": "code",
   "execution_count": 10,
   "id": "eec84da3",
   "metadata": {},
   "outputs": [],
   "source": [
    "import csv\n",
    "import pprint\n",
    "class ReadCsv(object):\n",
    "    def __init__(self, file_path):\n",
    "        self.file_path = file_path\n",
    "    \n",
    "    def read_file(self):\n",
    "        with open(self.file_path, 'r') as f:\n",
    "            data = list(csv.reader(f))\n",
    "            for idx in range(len(data)):\n",
    "                data[idx] = [int(i) for i in data[idx]]\n",
    "        self.data = data\n",
    "        return self.data\n",
    "    \n",
    "    def merge_list(self):\n",
    "        return [sum(i) for i in self.data]"
   ]
  },
  {
   "cell_type": "markdown",
   "id": "0addf95e",
   "metadata": {},
   "source": [
    "Q5.이전에 구현한 클래스에서 merge_list의 함수 동작을 변경해야합니다. 단순합계가 아닌 평균을 구하는 함수로 변경해보세요.\n",
    "\n",
    " - 리스트의 데이터를 다루는 함수를 이용해서 구현해보세요.\n",
    "\n",
    "- 최종 평균을 구한 후 오름차순으로 정렬해주세요."
   ]
  },
  {
   "cell_type": "code",
   "execution_count": 13,
   "id": "fde058fe",
   "metadata": {},
   "outputs": [],
   "source": [
    "# 파일의 경로를 file_path로 설정\n",
    "import csv\n",
    "import pprint\n",
    "\n",
    "class ReadCSV(object):\n",
    "    def __init__(self, file_path):\n",
    "    \t# class variable\n",
    "        self.file_path = file_path\n",
    "\n",
    "    def read_file(self):\n",
    "        with open(self.file_path,'r') as f:\n",
    "            data = list(csv.reader(f))\n",
    "            for idx in range(len(data)):\n",
    "                data[idx] = [int(j) for j in data[idx]]\n",
    "        self.data = data\n",
    "        return data\n",
    "\n",
    "    def merge_list(self):\n",
    "        return sorted([sum(i)/len(i) for i in self.data])"
   ]
  }
 ],
 "metadata": {
  "kernelspec": {
   "display_name": "Python 3 (ipykernel)",
   "language": "python",
   "name": "python3"
  },
  "language_info": {
   "codemirror_mode": {
    "name": "ipython",
    "version": 3
   },
   "file_extension": ".py",
   "mimetype": "text/x-python",
   "name": "python",
   "nbconvert_exporter": "python",
   "pygments_lexer": "ipython3",
   "version": "3.9.13"
  },
  "toc": {
   "base_numbering": 1,
   "nav_menu": {},
   "number_sections": true,
   "sideBar": true,
   "skip_h1_title": false,
   "title_cell": "Table of Contents",
   "title_sidebar": "Contents",
   "toc_cell": false,
   "toc_position": {},
   "toc_section_display": true,
   "toc_window_display": true
  }
 },
 "nbformat": 4,
 "nbformat_minor": 5
}
